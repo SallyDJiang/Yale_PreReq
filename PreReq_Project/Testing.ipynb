{
 "cells": [
  {
   "cell_type": "code",
   "execution_count": 1,
   "metadata": {},
   "outputs": [],
   "source": [
    "import matplotlib\n",
    "import matplotlib.pyplot as plt\n",
    "import numpy as np\n",
    "import pandas as pd\n",
    "import streamlit as st"
   ]
  },
  {
   "cell_type": "code",
   "execution_count": 2,
   "metadata": {},
   "outputs": [
    {
     "data": {
      "text/html": [
       "<div>\n",
       "<style scoped>\n",
       "    .dataframe tbody tr th:only-of-type {\n",
       "        vertical-align: middle;\n",
       "    }\n",
       "\n",
       "    .dataframe tbody tr th {\n",
       "        vertical-align: top;\n",
       "    }\n",
       "\n",
       "    .dataframe thead th {\n",
       "        text-align: right;\n",
       "    }\n",
       "</style>\n",
       "<table border=\"1\" class=\"dataframe\">\n",
       "  <thead>\n",
       "    <tr style=\"text-align: right;\">\n",
       "      <th></th>\n",
       "      <th>Major</th>\n",
       "      <th>Course</th>\n",
       "      <th>Concentration</th>\n",
       "      <th>Concentration 2</th>\n",
       "    </tr>\n",
       "  </thead>\n",
       "  <tbody>\n",
       "    <tr>\n",
       "      <th>0</th>\n",
       "      <td>applied-mathematics</td>\n",
       "      <td>MATH 112</td>\n",
       "      <td>Math and Statistics</td>\n",
       "      <td>NaN</td>\n",
       "    </tr>\n",
       "    <tr>\n",
       "      <th>1</th>\n",
       "      <td>applied-mathematics</td>\n",
       "      <td>MATH 115</td>\n",
       "      <td>Math and Statistics</td>\n",
       "      <td>NaN</td>\n",
       "    </tr>\n",
       "    <tr>\n",
       "      <th>2</th>\n",
       "      <td>applied-mathematics</td>\n",
       "      <td>MATH 120</td>\n",
       "      <td>Math and Statistics</td>\n",
       "      <td>NaN</td>\n",
       "    </tr>\n",
       "    <tr>\n",
       "      <th>3</th>\n",
       "      <td>applied-mathematics</td>\n",
       "      <td>ENAS 151</td>\n",
       "      <td>Math and Statistics</td>\n",
       "      <td>NaN</td>\n",
       "    </tr>\n",
       "    <tr>\n",
       "      <th>4</th>\n",
       "      <td>applied-mathematics</td>\n",
       "      <td>MATH 222</td>\n",
       "      <td>Math and Statistics</td>\n",
       "      <td>NaN</td>\n",
       "    </tr>\n",
       "    <tr>\n",
       "      <th>...</th>\n",
       "      <td>...</td>\n",
       "      <td>...</td>\n",
       "      <td>...</td>\n",
       "      <td>...</td>\n",
       "    </tr>\n",
       "    <tr>\n",
       "      <th>329</th>\n",
       "      <td>russian-east-european-studies</td>\n",
       "      <td>RUSS 140</td>\n",
       "      <td>Arts and Humanities</td>\n",
       "      <td>NaN</td>\n",
       "    </tr>\n",
       "    <tr>\n",
       "      <th>330</th>\n",
       "      <td>russian-east-european-studies</td>\n",
       "      <td>RUSS 142</td>\n",
       "      <td>Arts and Humanities</td>\n",
       "      <td>NaN</td>\n",
       "    </tr>\n",
       "    <tr>\n",
       "      <th>331</th>\n",
       "      <td>russian-east-european-studies</td>\n",
       "      <td>RUSS 145</td>\n",
       "      <td>Arts and Humanities</td>\n",
       "      <td>NaN</td>\n",
       "    </tr>\n",
       "    <tr>\n",
       "      <th>332</th>\n",
       "      <td>statistics</td>\n",
       "      <td>MATH 120</td>\n",
       "      <td>Math and Statistics</td>\n",
       "      <td>NaN</td>\n",
       "    </tr>\n",
       "    <tr>\n",
       "      <th>333</th>\n",
       "      <td>statistics</td>\n",
       "      <td>ENAS 151</td>\n",
       "      <td>Math and Statistics</td>\n",
       "      <td>NaN</td>\n",
       "    </tr>\n",
       "  </tbody>\n",
       "</table>\n",
       "<p>334 rows × 4 columns</p>\n",
       "</div>"
      ],
      "text/plain": [
       "                             Major    Course        Concentration  \\\n",
       "0              applied-mathematics  MATH 112  Math and Statistics   \n",
       "1              applied-mathematics  MATH 115  Math and Statistics   \n",
       "2              applied-mathematics  MATH 120  Math and Statistics   \n",
       "3              applied-mathematics  ENAS 151  Math and Statistics   \n",
       "4              applied-mathematics  MATH 222  Math and Statistics   \n",
       "..                             ...       ...                  ...   \n",
       "329  russian-east-european-studies  RUSS 140  Arts and Humanities   \n",
       "330  russian-east-european-studies  RUSS 142  Arts and Humanities   \n",
       "331  russian-east-european-studies  RUSS 145  Arts and Humanities   \n",
       "332                     statistics  MATH 120  Math and Statistics   \n",
       "333                     statistics  ENAS 151  Math and Statistics   \n",
       "\n",
       "    Concentration 2  \n",
       "0               NaN  \n",
       "1               NaN  \n",
       "2               NaN  \n",
       "3               NaN  \n",
       "4               NaN  \n",
       "..              ...  \n",
       "329             NaN  \n",
       "330             NaN  \n",
       "331             NaN  \n",
       "332             NaN  \n",
       "333             NaN  \n",
       "\n",
       "[334 rows x 4 columns]"
      ]
     },
     "execution_count": 2,
     "metadata": {},
     "output_type": "execute_result"
    }
   ],
   "source": [
    "pre_req_data = pd.read_csv(\"Pre_Req.csv\")\n",
    "pre_req_data"
   ]
  },
  {
   "cell_type": "code",
   "execution_count": 4,
   "metadata": {},
   "outputs": [
    {
     "data": {
      "text/plain": [
       "array(['Arts and Humanities', 'Biological and Biomedical Sciences',\n",
       "       'Computer and Information Sciences', 'Engineering',\n",
       "       'Math and Statistics', 'Physical Sciences', 'Social Science',\n",
       "       'Social Sciences'], dtype=object)"
      ]
     },
     "execution_count": 4,
     "metadata": {},
     "output_type": "execute_result"
    }
   ],
   "source": [
    "np.unique(pre_req_data[\"Concentration\"])"
   ]
  },
  {
   "cell_type": "code",
   "execution_count": 14,
   "metadata": {},
   "outputs": [
    {
     "data": {
      "text/plain": [
       "array([ 23,  93,  94,  95, 292, 326, 327, 328, 329, 330, 331])"
      ]
     },
     "execution_count": 14,
     "metadata": {},
     "output_type": "execute_result"
    }
   ],
   "source": [
    "ind, = np.where(pre_req_data[\"Concentration\"] == \"Arts and Humanities\")\n",
    "ind"
   ]
  },
  {
   "cell_type": "code",
   "execution_count": 16,
   "metadata": {},
   "outputs": [
    {
     "data": {
      "text/html": [
       "<div>\n",
       "<style scoped>\n",
       "    .dataframe tbody tr th:only-of-type {\n",
       "        vertical-align: middle;\n",
       "    }\n",
       "\n",
       "    .dataframe tbody tr th {\n",
       "        vertical-align: top;\n",
       "    }\n",
       "\n",
       "    .dataframe thead th {\n",
       "        text-align: right;\n",
       "    }\n",
       "</style>\n",
       "<table border=\"1\" class=\"dataframe\">\n",
       "  <thead>\n",
       "    <tr style=\"text-align: right;\">\n",
       "      <th></th>\n",
       "      <th>Major</th>\n",
       "      <th>Course</th>\n",
       "      <th>Concentration</th>\n",
       "      <th>Concentration 2</th>\n",
       "    </tr>\n",
       "  </thead>\n",
       "  <tbody>\n",
       "    <tr>\n",
       "      <th>23</th>\n",
       "      <td>art</td>\n",
       "      <td>ART 111</td>\n",
       "      <td>Arts and Humanities</td>\n",
       "      <td>NaN</td>\n",
       "    </tr>\n",
       "    <tr>\n",
       "      <th>93</th>\n",
       "      <td>computing-arts</td>\n",
       "      <td>CPSC 100</td>\n",
       "      <td>Arts and Humanities</td>\n",
       "      <td>Computer and Information Sciences</td>\n",
       "    </tr>\n",
       "    <tr>\n",
       "      <th>94</th>\n",
       "      <td>computing-arts</td>\n",
       "      <td>CPSC 112</td>\n",
       "      <td>Arts and Humanities</td>\n",
       "      <td>Computer and Information Sciences</td>\n",
       "    </tr>\n",
       "    <tr>\n",
       "      <th>95</th>\n",
       "      <td>computing-arts</td>\n",
       "      <td>ART 111</td>\n",
       "      <td>Arts and Humanities</td>\n",
       "      <td>Computer and Information Sciences</td>\n",
       "    </tr>\n",
       "    <tr>\n",
       "      <th>292</th>\n",
       "      <td>philosophy</td>\n",
       "      <td>PSYC 110</td>\n",
       "      <td>Arts and Humanities</td>\n",
       "      <td>NaN</td>\n",
       "    </tr>\n",
       "    <tr>\n",
       "      <th>326</th>\n",
       "      <td>russian</td>\n",
       "      <td>RUSS 140</td>\n",
       "      <td>Arts and Humanities</td>\n",
       "      <td>NaN</td>\n",
       "    </tr>\n",
       "    <tr>\n",
       "      <th>327</th>\n",
       "      <td>russian</td>\n",
       "      <td>RUSS 142</td>\n",
       "      <td>Arts and Humanities</td>\n",
       "      <td>NaN</td>\n",
       "    </tr>\n",
       "    <tr>\n",
       "      <th>328</th>\n",
       "      <td>russian</td>\n",
       "      <td>RUSS 145</td>\n",
       "      <td>Arts and Humanities</td>\n",
       "      <td>NaN</td>\n",
       "    </tr>\n",
       "    <tr>\n",
       "      <th>329</th>\n",
       "      <td>russian-east-european-studies</td>\n",
       "      <td>RUSS 140</td>\n",
       "      <td>Arts and Humanities</td>\n",
       "      <td>NaN</td>\n",
       "    </tr>\n",
       "    <tr>\n",
       "      <th>330</th>\n",
       "      <td>russian-east-european-studies</td>\n",
       "      <td>RUSS 142</td>\n",
       "      <td>Arts and Humanities</td>\n",
       "      <td>NaN</td>\n",
       "    </tr>\n",
       "    <tr>\n",
       "      <th>331</th>\n",
       "      <td>russian-east-european-studies</td>\n",
       "      <td>RUSS 145</td>\n",
       "      <td>Arts and Humanities</td>\n",
       "      <td>NaN</td>\n",
       "    </tr>\n",
       "  </tbody>\n",
       "</table>\n",
       "</div>"
      ],
      "text/plain": [
       "                             Major    Course        Concentration  \\\n",
       "23                             art   ART 111  Arts and Humanities   \n",
       "93                  computing-arts  CPSC 100  Arts and Humanities   \n",
       "94                  computing-arts  CPSC 112  Arts and Humanities   \n",
       "95                  computing-arts   ART 111  Arts and Humanities   \n",
       "292                     philosophy  PSYC 110  Arts and Humanities   \n",
       "326                        russian  RUSS 140  Arts and Humanities   \n",
       "327                        russian  RUSS 142  Arts and Humanities   \n",
       "328                        russian  RUSS 145  Arts and Humanities   \n",
       "329  russian-east-european-studies  RUSS 140  Arts and Humanities   \n",
       "330  russian-east-european-studies  RUSS 142  Arts and Humanities   \n",
       "331  russian-east-european-studies  RUSS 145  Arts and Humanities   \n",
       "\n",
       "                       Concentration 2  \n",
       "23                                 NaN  \n",
       "93   Computer and Information Sciences  \n",
       "94   Computer and Information Sciences  \n",
       "95   Computer and Information Sciences  \n",
       "292                                NaN  \n",
       "326                                NaN  \n",
       "327                                NaN  \n",
       "328                                NaN  \n",
       "329                                NaN  \n",
       "330                                NaN  \n",
       "331                                NaN  "
      ]
     },
     "execution_count": 16,
     "metadata": {},
     "output_type": "execute_result"
    }
   ],
   "source": [
    "pre_req_data.iloc[ind]"
   ]
  },
  {
   "cell_type": "code",
   "execution_count": 17,
   "metadata": {},
   "outputs": [],
   "source": [
    "primary_con = [\"Computer and Information Sciences\", \"Arts and Humanities\"]"
   ]
  },
  {
   "cell_type": "code",
   "execution_count": 38,
   "metadata": {},
   "outputs": [
    {
     "data": {
      "text/plain": [
       "array([ 23,  85,  86,  87,  88,  89,  90,  91,  92,  93,  94,  95, 292,\n",
       "       326, 327, 328, 329, 330, 331])"
      ]
     },
     "execution_count": 38,
     "metadata": {},
     "output_type": "execute_result"
    }
   ],
   "source": [
    "indexes = []\n",
    "for concentration in primary_con:\n",
    "    ind, = np.where(pre_req_data[\"Concentration\"] == concentration)\n",
    "    indexes.append(ind)\n",
    "indexes = np.unique(np.concatenate((indexes),0))\n",
    "indexes"
   ]
  },
  {
   "cell_type": "code",
   "execution_count": 51,
   "metadata": {},
   "outputs": [
    {
     "data": {
      "text/plain": [
       "array(['art', 'computer-science-economics', 'computer-science-psychology',\n",
       "       'computing-arts', 'philosophy', 'russian',\n",
       "       'russian-east-european-studies'], dtype=object)"
      ]
     },
     "execution_count": 51,
     "metadata": {},
     "output_type": "execute_result"
    }
   ],
   "source": [
    "np.array(pre_req_data[\"Major\"].iloc[np.unique(indexes)].drop_duplicates())"
   ]
  },
  {
   "cell_type": "code",
   "execution_count": 53,
   "metadata": {},
   "outputs": [
    {
     "data": {
      "text/plain": [
       "array(['ART\\xa0111', 'CPSC 100', 'CPSC 112', 'MATH 112', 'ECON 110',\n",
       "       'ECON 115', 'ECON 111', 'ECON 116', 'PSYC\\xa0110', 'CPSC\\xa0100',\n",
       "       'CPSC\\xa0112', 'PSYC 110', 'RUSS 140', 'RUSS 142', 'RUSS 145'],\n",
       "      dtype=object)"
      ]
     },
     "execution_count": 53,
     "metadata": {},
     "output_type": "execute_result"
    }
   ],
   "source": [
    "np.array(pre_req_data[\"Course\"].iloc[np.unique(indexes)].drop_duplicates())"
   ]
  },
  {
   "cell_type": "code",
   "execution_count": 54,
   "metadata": {},
   "outputs": [
    {
     "data": {
      "text/html": [
       "<div>\n",
       "<style scoped>\n",
       "    .dataframe tbody tr th:only-of-type {\n",
       "        vertical-align: middle;\n",
       "    }\n",
       "\n",
       "    .dataframe tbody tr th {\n",
       "        vertical-align: top;\n",
       "    }\n",
       "\n",
       "    .dataframe thead th {\n",
       "        text-align: right;\n",
       "    }\n",
       "</style>\n",
       "<table border=\"1\" class=\"dataframe\">\n",
       "  <thead>\n",
       "    <tr style=\"text-align: right;\">\n",
       "      <th></th>\n",
       "      <th>Courses</th>\n",
       "    </tr>\n",
       "  </thead>\n",
       "  <tbody>\n",
       "    <tr>\n",
       "      <th>0</th>\n",
       "      <td>ART 111</td>\n",
       "    </tr>\n",
       "    <tr>\n",
       "      <th>1</th>\n",
       "      <td>CPSC 100</td>\n",
       "    </tr>\n",
       "    <tr>\n",
       "      <th>2</th>\n",
       "      <td>CPSC 112</td>\n",
       "    </tr>\n",
       "    <tr>\n",
       "      <th>3</th>\n",
       "      <td>MATH 112</td>\n",
       "    </tr>\n",
       "    <tr>\n",
       "      <th>4</th>\n",
       "      <td>ECON 110</td>\n",
       "    </tr>\n",
       "    <tr>\n",
       "      <th>5</th>\n",
       "      <td>ECON 115</td>\n",
       "    </tr>\n",
       "    <tr>\n",
       "      <th>6</th>\n",
       "      <td>ECON 111</td>\n",
       "    </tr>\n",
       "    <tr>\n",
       "      <th>7</th>\n",
       "      <td>ECON 116</td>\n",
       "    </tr>\n",
       "    <tr>\n",
       "      <th>8</th>\n",
       "      <td>PSYC 110</td>\n",
       "    </tr>\n",
       "    <tr>\n",
       "      <th>9</th>\n",
       "      <td>CPSC 100</td>\n",
       "    </tr>\n",
       "    <tr>\n",
       "      <th>10</th>\n",
       "      <td>CPSC 112</td>\n",
       "    </tr>\n",
       "    <tr>\n",
       "      <th>11</th>\n",
       "      <td>PSYC 110</td>\n",
       "    </tr>\n",
       "    <tr>\n",
       "      <th>12</th>\n",
       "      <td>RUSS 140</td>\n",
       "    </tr>\n",
       "    <tr>\n",
       "      <th>13</th>\n",
       "      <td>RUSS 142</td>\n",
       "    </tr>\n",
       "    <tr>\n",
       "      <th>14</th>\n",
       "      <td>RUSS 145</td>\n",
       "    </tr>\n",
       "  </tbody>\n",
       "</table>\n",
       "</div>"
      ],
      "text/plain": [
       "     Courses\n",
       "0    ART 111\n",
       "1   CPSC 100\n",
       "2   CPSC 112\n",
       "3   MATH 112\n",
       "4   ECON 110\n",
       "5   ECON 115\n",
       "6   ECON 111\n",
       "7   ECON 116\n",
       "8   PSYC 110\n",
       "9   CPSC 100\n",
       "10  CPSC 112\n",
       "11  PSYC 110\n",
       "12  RUSS 140\n",
       "13  RUSS 142\n",
       "14  RUSS 145"
      ]
     },
     "execution_count": 54,
     "metadata": {},
     "output_type": "execute_result"
    }
   ],
   "source": [
    "pd.DataFrame(np.array(pre_req_data[\"Course\"].iloc[np.unique(indexes)].drop_duplicates()), columns = ['Courses'])"
   ]
  },
  {
   "cell_type": "code",
   "execution_count": null,
   "metadata": {},
   "outputs": [],
   "source": []
  }
 ],
 "metadata": {
  "kernelspec": {
   "display_name": "Python 3",
   "language": "python",
   "name": "python3"
  },
  "language_info": {
   "codemirror_mode": {
    "name": "ipython",
    "version": 3
   },
   "file_extension": ".py",
   "mimetype": "text/x-python",
   "name": "python",
   "nbconvert_exporter": "python",
   "pygments_lexer": "ipython3",
   "version": "3.8.5"
  }
 },
 "nbformat": 4,
 "nbformat_minor": 4
}
